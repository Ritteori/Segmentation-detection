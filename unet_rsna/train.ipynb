{
 "cells": [
  {
   "cell_type": "code",
   "execution_count": null,
   "id": "5d8bf7b4",
   "metadata": {},
   "outputs": [],
   "source": [
    "import torch\n",
    "\n",
    "from config import LR,EPOCHS,LOG_PATH\n",
    "from dataloader import train_loader,val_loader\n",
    "from model import UNet\n",
    "from utils import train_loop\n",
    "from loss import TripleLoss"
   ]
  },
  {
   "cell_type": "code",
   "execution_count": null,
   "id": "ed857a54",
   "metadata": {},
   "outputs": [],
   "source": [
    "device = 'cuda' if torch.cuda.is_available() else 'cpu'"
   ]
  },
  {
   "cell_type": "code",
   "execution_count": null,
   "id": "195449ae",
   "metadata": {},
   "outputs": [],
   "source": [
    "checkpoint = torch.load(r'J:\\ML_for_porfolio\\segmentation\\unet_rsna\\checkpoints\\unet_11epochs.pth', map_location=device)"
   ]
  },
  {
   "cell_type": "code",
   "execution_count": null,
   "id": "8d603aab",
   "metadata": {},
   "outputs": [],
   "source": [
    "model = UNet()\n",
    "model.load_state_dict(checkpoint['model_state_dict'])\n",
    "model = model.to(device)\n",
    "\n",
    "optimizer = torch.optim.Adam(model.parameters(), lr=LR)\n",
    "optimizer.load_state_dict(checkpoint['optimizer_state_dict'])\n",
    "\n",
    "for state in optimizer.state.values():\n",
    "    for k, v in state.items():\n",
    "        if isinstance(v, torch.Tensor):\n",
    "            state[k] = v.to(device)\n",
    "\n",
    "loss_fn = TripleLoss()"
   ]
  },
  {
   "cell_type": "code",
   "execution_count": null,
   "id": "8adce06c",
   "metadata": {},
   "outputs": [],
   "source": [
    "train_loop(model,\n",
    "           train_loader,val_loader,\n",
    "           optimizer,loss_fn,device,EPOCHS,\n",
    "           log_path=LOG_PATH,\n",
    "           log_every=1)"
   ]
  }
 ],
 "metadata": {
  "kernelspec": {
   "display_name": "torch_learning",
   "language": "python",
   "name": "python3"
  },
  "language_info": {
   "codemirror_mode": {
    "name": "ipython",
    "version": 3
   },
   "file_extension": ".py",
   "mimetype": "text/x-python",
   "name": "python",
   "nbconvert_exporter": "python",
   "pygments_lexer": "ipython3",
   "version": "3.10.16"
  }
 },
 "nbformat": 4,
 "nbformat_minor": 5
}
