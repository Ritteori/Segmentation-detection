{
 "cells": [
  {
   "cell_type": "code",
   "execution_count": null,
   "id": "86160aa0",
   "metadata": {},
   "outputs": [],
   "source": [
    "import torch\n",
    "from model import YOLOv3\n",
    "from loss import YOLOLoss\n",
    "from dataloader import dataloader\n",
    "from config import IMG_SHAPE,ANCHORS,EPOCHS\n",
    "from utils import train_loop"
   ]
  },
  {
   "cell_type": "code",
   "execution_count": null,
   "id": "65a14b77",
   "metadata": {},
   "outputs": [],
   "source": [
    "model = YOLOv3(IMG_SHAPE)\n",
    "state_dict = torch.load(r'J:\\ML_for_porfolio\\segmentation\\yolov3\\models\\yolov3_38epochs.pth')\n",
    "model.load_state_dict(state_dict)"
   ]
  },
  {
   "cell_type": "code",
   "execution_count": null,
   "id": "b4a07d91",
   "metadata": {},
   "outputs": [],
   "source": [
    "loss_fn = YOLOLoss(ANCHORS)\n",
    "device = torch.device('cuda' if torch.cuda.is_available() else 'cpu')\n",
    "optimizer = torch.optim.Adam(model.parameters(), lr=1e-4)"
   ]
  },
  {
   "cell_type": "code",
   "execution_count": null,
   "id": "a2c75db6",
   "metadata": {},
   "outputs": [],
   "source": [
    "train_loop(model, dataloader, optimizer, loss_fn, device, EPOCHS)"
   ]
  },
  {
   "cell_type": "code",
   "execution_count": null,
   "id": "e80a5f39",
   "metadata": {},
   "outputs": [],
   "source": [
    "torch.save(model.state_dict(), \"J:\\ML_for_porfolio\\segmentation\\yolov3\\models\\yolov3_rsna_38epochs.pth\")"
   ]
  }
 ],
 "metadata": {
  "kernelspec": {
   "display_name": "torch_learning",
   "language": "python",
   "name": "python3"
  },
  "language_info": {
   "codemirror_mode": {
    "name": "ipython",
    "version": 3
   },
   "file_extension": ".py",
   "mimetype": "text/x-python",
   "name": "python",
   "nbconvert_exporter": "python",
   "pygments_lexer": "ipython3",
   "version": "3.10.16"
  }
 },
 "nbformat": 4,
 "nbformat_minor": 5
}
